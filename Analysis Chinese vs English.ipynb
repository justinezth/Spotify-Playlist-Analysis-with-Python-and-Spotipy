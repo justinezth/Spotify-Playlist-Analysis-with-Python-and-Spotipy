{
 "cells": [
  {
   "cell_type": "markdown",
   "metadata": {},
   "source": [
    "# Analysis of My Favorite English Songs and Favorite Chinese Songs"
   ]
  },
  {
   "cell_type": "markdown",
   "metadata": {},
   "source": [
    "Analysis of 37 of my favorite English songs and 37 of my favorite Chinese songs using visualizations to see if my taste in music is similar in different languages. I hypothesize it to be pretty similar because I would describe my favorite genres of music (no matter what language) as slow pop and ballads. Because I enjoy listening to soft and slow (and honestly sadder) music with lyrics, I would also expect my music to be:\n",
    "\n",
    "- lower in valence (musical positiveness)\n",
    "- lower in tempo (speed)\n",
    "- lower in loudness\n",
    "- lower in energy\n",
    "- higher in speechiness"
   ]
  },
  {
   "cell_type": "code",
   "execution_count": 1,
   "metadata": {},
   "outputs": [],
   "source": [
    "# Import the libraries\n",
    "import os\n",
    "import pandas as pd\n",
    "import numpy as np\n",
    "import json\n",
    "from matplotlib import pyplot as plt\n",
    "import seaborn as sns\n",
    "import random"
   ]
  },
  {
   "cell_type": "code",
   "execution_count": 2,
   "metadata": {},
   "outputs": [],
   "source": [
    "#read in songs from the csv files created\n",
    "chi = pd.read_csv('fav_chinese.csv')\n",
    "eng = pd.read_csv('fav_english.csv')"
   ]
  },
  {
   "cell_type": "markdown",
   "metadata": {},
   "source": [
    "# EDA / Descriptive Statistics"
   ]
  },
  {
   "cell_type": "code",
   "execution_count": 3,
   "metadata": {},
   "outputs": [
    {
     "data": {
      "text/html": [
       "<div>\n",
       "<style scoped>\n",
       "    .dataframe tbody tr th:only-of-type {\n",
       "        vertical-align: middle;\n",
       "    }\n",
       "\n",
       "    .dataframe tbody tr th {\n",
       "        vertical-align: top;\n",
       "    }\n",
       "\n",
       "    .dataframe thead th {\n",
       "        text-align: right;\n",
       "    }\n",
       "</style>\n",
       "<table border=\"1\" class=\"dataframe\">\n",
       "  <thead>\n",
       "    <tr style=\"text-align: right;\">\n",
       "      <th></th>\n",
       "      <th>Unnamed: 0</th>\n",
       "      <th>track_id</th>\n",
       "      <th>danceability</th>\n",
       "      <th>energy</th>\n",
       "      <th>tempo</th>\n",
       "      <th>loudness</th>\n",
       "      <th>valence</th>\n",
       "      <th>speechiness</th>\n",
       "      <th>liveness</th>\n",
       "      <th>acousticness</th>\n",
       "    </tr>\n",
       "  </thead>\n",
       "  <tbody>\n",
       "    <tr>\n",
       "      <th>0</th>\n",
       "      <td>0</td>\n",
       "      <td>632VyMrvhsHIsO4zq9khts</td>\n",
       "      <td>0.076566</td>\n",
       "      <td>0.142857</td>\n",
       "      <td>0.753708</td>\n",
       "      <td>0.673291</td>\n",
       "      <td>0.294290</td>\n",
       "      <td>0.154110</td>\n",
       "      <td>0.000000</td>\n",
       "      <td>1.000000</td>\n",
       "    </tr>\n",
       "    <tr>\n",
       "      <th>1</th>\n",
       "      <td>1</td>\n",
       "      <td>190kU2WKyIzx9XaBjfWRPk</td>\n",
       "      <td>0.392111</td>\n",
       "      <td>0.732601</td>\n",
       "      <td>0.493899</td>\n",
       "      <td>1.000000</td>\n",
       "      <td>0.166911</td>\n",
       "      <td>0.172945</td>\n",
       "      <td>0.193808</td>\n",
       "      <td>0.606436</td>\n",
       "    </tr>\n",
       "    <tr>\n",
       "      <th>2</th>\n",
       "      <td>2</td>\n",
       "      <td>5OFtU1YvHPw9WSHJxoZi3r</td>\n",
       "      <td>0.781903</td>\n",
       "      <td>0.357143</td>\n",
       "      <td>0.190411</td>\n",
       "      <td>0.780387</td>\n",
       "      <td>0.325037</td>\n",
       "      <td>0.030822</td>\n",
       "      <td>0.148662</td>\n",
       "      <td>0.775990</td>\n",
       "    </tr>\n",
       "    <tr>\n",
       "      <th>3</th>\n",
       "      <td>3</td>\n",
       "      <td>1Io6k2Nc3I6bwWOblZOK1d</td>\n",
       "      <td>0.677494</td>\n",
       "      <td>1.000000</td>\n",
       "      <td>0.250537</td>\n",
       "      <td>0.945498</td>\n",
       "      <td>1.000000</td>\n",
       "      <td>0.089041</td>\n",
       "      <td>0.445340</td>\n",
       "      <td>0.000000</td>\n",
       "    </tr>\n",
       "    <tr>\n",
       "      <th>4</th>\n",
       "      <td>4</td>\n",
       "      <td>4fjCxEyqYK4rorwQeWqvej</td>\n",
       "      <td>0.573086</td>\n",
       "      <td>0.373626</td>\n",
       "      <td>0.501720</td>\n",
       "      <td>0.858978</td>\n",
       "      <td>0.345534</td>\n",
       "      <td>0.042808</td>\n",
       "      <td>0.106740</td>\n",
       "      <td>0.778465</td>\n",
       "    </tr>\n",
       "  </tbody>\n",
       "</table>\n",
       "</div>"
      ],
      "text/plain": [
       "   Unnamed: 0                track_id  danceability    energy     tempo  \\\n",
       "0           0  632VyMrvhsHIsO4zq9khts      0.076566  0.142857  0.753708   \n",
       "1           1  190kU2WKyIzx9XaBjfWRPk      0.392111  0.732601  0.493899   \n",
       "2           2  5OFtU1YvHPw9WSHJxoZi3r      0.781903  0.357143  0.190411   \n",
       "3           3  1Io6k2Nc3I6bwWOblZOK1d      0.677494  1.000000  0.250537   \n",
       "4           4  4fjCxEyqYK4rorwQeWqvej      0.573086  0.373626  0.501720   \n",
       "\n",
       "   loudness   valence  speechiness  liveness  acousticness  \n",
       "0  0.673291  0.294290     0.154110  0.000000      1.000000  \n",
       "1  1.000000  0.166911     0.172945  0.193808      0.606436  \n",
       "2  0.780387  0.325037     0.030822  0.148662      0.775990  \n",
       "3  0.945498  1.000000     0.089041  0.445340      0.000000  \n",
       "4  0.858978  0.345534     0.042808  0.106740      0.778465  "
      ]
     },
     "execution_count": 3,
     "metadata": {},
     "output_type": "execute_result"
    }
   ],
   "source": [
    "chi.head()"
   ]
  },
  {
   "cell_type": "code",
   "execution_count": 4,
   "metadata": {},
   "outputs": [],
   "source": [
    "#drop the unnamed column\n",
    "chi.drop(chi.columns[0], axis=1, inplace=True)\n",
    "eng.drop(eng.columns[0], axis=1, inplace=True)"
   ]
  },
  {
   "cell_type": "code",
   "execution_count": 5,
   "metadata": {},
   "outputs": [
    {
     "data": {
      "text/html": [
       "<div>\n",
       "<style scoped>\n",
       "    .dataframe tbody tr th:only-of-type {\n",
       "        vertical-align: middle;\n",
       "    }\n",
       "\n",
       "    .dataframe tbody tr th {\n",
       "        vertical-align: top;\n",
       "    }\n",
       "\n",
       "    .dataframe thead th {\n",
       "        text-align: right;\n",
       "    }\n",
       "</style>\n",
       "<table border=\"1\" class=\"dataframe\">\n",
       "  <thead>\n",
       "    <tr style=\"text-align: right;\">\n",
       "      <th></th>\n",
       "      <th>track_id</th>\n",
       "      <th>danceability</th>\n",
       "      <th>energy</th>\n",
       "      <th>tempo</th>\n",
       "      <th>loudness</th>\n",
       "      <th>valence</th>\n",
       "      <th>speechiness</th>\n",
       "      <th>liveness</th>\n",
       "      <th>acousticness</th>\n",
       "    </tr>\n",
       "  </thead>\n",
       "  <tbody>\n",
       "    <tr>\n",
       "      <th>0</th>\n",
       "      <td>4qug3gWrzeTNm0GhOkugJV</td>\n",
       "      <td>0.897810</td>\n",
       "      <td>0.282885</td>\n",
       "      <td>0.153470</td>\n",
       "      <td>0.252510</td>\n",
       "      <td>0.615487</td>\n",
       "      <td>0.704529</td>\n",
       "      <td>0.277711</td>\n",
       "      <td>1.000000</td>\n",
       "    </tr>\n",
       "    <tr>\n",
       "      <th>1</th>\n",
       "      <td>3oL3XRtkP1WVbMxf7dtTdu</td>\n",
       "      <td>0.700730</td>\n",
       "      <td>0.868458</td>\n",
       "      <td>0.494014</td>\n",
       "      <td>1.000000</td>\n",
       "      <td>1.000000</td>\n",
       "      <td>0.024703</td>\n",
       "      <td>0.270815</td>\n",
       "      <td>0.000000</td>\n",
       "    </tr>\n",
       "    <tr>\n",
       "      <th>2</th>\n",
       "      <td>5bZeugrr7oIATt1CLJuhT4</td>\n",
       "      <td>0.461679</td>\n",
       "      <td>0.581330</td>\n",
       "      <td>0.968262</td>\n",
       "      <td>0.725653</td>\n",
       "      <td>0.198932</td>\n",
       "      <td>0.043594</td>\n",
       "      <td>0.179452</td>\n",
       "      <td>0.355627</td>\n",
       "    </tr>\n",
       "    <tr>\n",
       "      <th>3</th>\n",
       "      <td>2K0r5GD5zYlEMx2M7ZMcqG</td>\n",
       "      <td>0.589416</td>\n",
       "      <td>0.775106</td>\n",
       "      <td>0.041469</td>\n",
       "      <td>0.875502</td>\n",
       "      <td>0.189586</td>\n",
       "      <td>0.030274</td>\n",
       "      <td>0.450095</td>\n",
       "      <td>0.272895</td>\n",
       "    </tr>\n",
       "    <tr>\n",
       "      <th>4</th>\n",
       "      <td>6cAKeFFYW2aClZSUyvqAEW</td>\n",
       "      <td>0.217153</td>\n",
       "      <td>0.801980</td>\n",
       "      <td>0.105621</td>\n",
       "      <td>0.923569</td>\n",
       "      <td>0.631509</td>\n",
       "      <td>0.030758</td>\n",
       "      <td>0.095156</td>\n",
       "      <td>0.256582</td>\n",
       "    </tr>\n",
       "  </tbody>\n",
       "</table>\n",
       "</div>"
      ],
      "text/plain": [
       "                 track_id  danceability    energy     tempo  loudness  \\\n",
       "0  4qug3gWrzeTNm0GhOkugJV      0.897810  0.282885  0.153470  0.252510   \n",
       "1  3oL3XRtkP1WVbMxf7dtTdu      0.700730  0.868458  0.494014  1.000000   \n",
       "2  5bZeugrr7oIATt1CLJuhT4      0.461679  0.581330  0.968262  0.725653   \n",
       "3  2K0r5GD5zYlEMx2M7ZMcqG      0.589416  0.775106  0.041469  0.875502   \n",
       "4  6cAKeFFYW2aClZSUyvqAEW      0.217153  0.801980  0.105621  0.923569   \n",
       "\n",
       "    valence  speechiness  liveness  acousticness  \n",
       "0  0.615487     0.704529  0.277711      1.000000  \n",
       "1  1.000000     0.024703  0.270815      0.000000  \n",
       "2  0.198932     0.043594  0.179452      0.355627  \n",
       "3  0.189586     0.030274  0.450095      0.272895  \n",
       "4  0.631509     0.030758  0.095156      0.256582  "
      ]
     },
     "metadata": {},
     "output_type": "display_data"
    },
    {
     "data": {
      "text/html": [
       "<div>\n",
       "<style scoped>\n",
       "    .dataframe tbody tr th:only-of-type {\n",
       "        vertical-align: middle;\n",
       "    }\n",
       "\n",
       "    .dataframe tbody tr th {\n",
       "        vertical-align: top;\n",
       "    }\n",
       "\n",
       "    .dataframe thead th {\n",
       "        text-align: right;\n",
       "    }\n",
       "</style>\n",
       "<table border=\"1\" class=\"dataframe\">\n",
       "  <thead>\n",
       "    <tr style=\"text-align: right;\">\n",
       "      <th></th>\n",
       "      <th>track_id</th>\n",
       "      <th>danceability</th>\n",
       "      <th>energy</th>\n",
       "      <th>tempo</th>\n",
       "      <th>loudness</th>\n",
       "      <th>valence</th>\n",
       "      <th>speechiness</th>\n",
       "      <th>liveness</th>\n",
       "      <th>acousticness</th>\n",
       "    </tr>\n",
       "  </thead>\n",
       "  <tbody>\n",
       "    <tr>\n",
       "      <th>0</th>\n",
       "      <td>632VyMrvhsHIsO4zq9khts</td>\n",
       "      <td>0.076566</td>\n",
       "      <td>0.142857</td>\n",
       "      <td>0.753708</td>\n",
       "      <td>0.673291</td>\n",
       "      <td>0.294290</td>\n",
       "      <td>0.154110</td>\n",
       "      <td>0.000000</td>\n",
       "      <td>1.000000</td>\n",
       "    </tr>\n",
       "    <tr>\n",
       "      <th>1</th>\n",
       "      <td>190kU2WKyIzx9XaBjfWRPk</td>\n",
       "      <td>0.392111</td>\n",
       "      <td>0.732601</td>\n",
       "      <td>0.493899</td>\n",
       "      <td>1.000000</td>\n",
       "      <td>0.166911</td>\n",
       "      <td>0.172945</td>\n",
       "      <td>0.193808</td>\n",
       "      <td>0.606436</td>\n",
       "    </tr>\n",
       "    <tr>\n",
       "      <th>2</th>\n",
       "      <td>5OFtU1YvHPw9WSHJxoZi3r</td>\n",
       "      <td>0.781903</td>\n",
       "      <td>0.357143</td>\n",
       "      <td>0.190411</td>\n",
       "      <td>0.780387</td>\n",
       "      <td>0.325037</td>\n",
       "      <td>0.030822</td>\n",
       "      <td>0.148662</td>\n",
       "      <td>0.775990</td>\n",
       "    </tr>\n",
       "    <tr>\n",
       "      <th>3</th>\n",
       "      <td>1Io6k2Nc3I6bwWOblZOK1d</td>\n",
       "      <td>0.677494</td>\n",
       "      <td>1.000000</td>\n",
       "      <td>0.250537</td>\n",
       "      <td>0.945498</td>\n",
       "      <td>1.000000</td>\n",
       "      <td>0.089041</td>\n",
       "      <td>0.445340</td>\n",
       "      <td>0.000000</td>\n",
       "    </tr>\n",
       "    <tr>\n",
       "      <th>4</th>\n",
       "      <td>4fjCxEyqYK4rorwQeWqvej</td>\n",
       "      <td>0.573086</td>\n",
       "      <td>0.373626</td>\n",
       "      <td>0.501720</td>\n",
       "      <td>0.858978</td>\n",
       "      <td>0.345534</td>\n",
       "      <td>0.042808</td>\n",
       "      <td>0.106740</td>\n",
       "      <td>0.778465</td>\n",
       "    </tr>\n",
       "  </tbody>\n",
       "</table>\n",
       "</div>"
      ],
      "text/plain": [
       "                 track_id  danceability    energy     tempo  loudness  \\\n",
       "0  632VyMrvhsHIsO4zq9khts      0.076566  0.142857  0.753708  0.673291   \n",
       "1  190kU2WKyIzx9XaBjfWRPk      0.392111  0.732601  0.493899  1.000000   \n",
       "2  5OFtU1YvHPw9WSHJxoZi3r      0.781903  0.357143  0.190411  0.780387   \n",
       "3  1Io6k2Nc3I6bwWOblZOK1d      0.677494  1.000000  0.250537  0.945498   \n",
       "4  4fjCxEyqYK4rorwQeWqvej      0.573086  0.373626  0.501720  0.858978   \n",
       "\n",
       "    valence  speechiness  liveness  acousticness  \n",
       "0  0.294290     0.154110  0.000000      1.000000  \n",
       "1  0.166911     0.172945  0.193808      0.606436  \n",
       "2  0.325037     0.030822  0.148662      0.775990  \n",
       "3  1.000000     0.089041  0.445340      0.000000  \n",
       "4  0.345534     0.042808  0.106740      0.778465  "
      ]
     },
     "execution_count": 5,
     "metadata": {},
     "output_type": "execute_result"
    }
   ],
   "source": [
    "display(eng.head())\n",
    "chi.head()"
   ]
  },
  {
   "cell_type": "code",
   "execution_count": 11,
   "metadata": {},
   "outputs": [
    {
     "data": {
      "text/html": [
       "<div>\n",
       "<style scoped>\n",
       "    .dataframe tbody tr th:only-of-type {\n",
       "        vertical-align: middle;\n",
       "    }\n",
       "\n",
       "    .dataframe tbody tr th {\n",
       "        vertical-align: top;\n",
       "    }\n",
       "\n",
       "    .dataframe thead th {\n",
       "        text-align: right;\n",
       "    }\n",
       "</style>\n",
       "<table border=\"1\" class=\"dataframe\">\n",
       "  <thead>\n",
       "    <tr style=\"text-align: right;\">\n",
       "      <th></th>\n",
       "      <th>danceability</th>\n",
       "      <th>energy</th>\n",
       "      <th>tempo</th>\n",
       "      <th>loudness</th>\n",
       "      <th>valence</th>\n",
       "      <th>speechiness</th>\n",
       "      <th>liveness</th>\n",
       "      <th>acousticness</th>\n",
       "    </tr>\n",
       "  </thead>\n",
       "  <tbody>\n",
       "    <tr>\n",
       "      <th>count</th>\n",
       "      <td>37.000000</td>\n",
       "      <td>37.000000</td>\n",
       "      <td>37.000000</td>\n",
       "      <td>37.000000</td>\n",
       "      <td>37.000000</td>\n",
       "      <td>37.000000</td>\n",
       "      <td>37.000000</td>\n",
       "      <td>37.000000</td>\n",
       "    </tr>\n",
       "    <tr>\n",
       "      <th>mean</th>\n",
       "      <td>0.506553</td>\n",
       "      <td>0.431343</td>\n",
       "      <td>0.464855</td>\n",
       "      <td>0.662332</td>\n",
       "      <td>0.324522</td>\n",
       "      <td>0.174704</td>\n",
       "      <td>0.255149</td>\n",
       "      <td>0.468591</td>\n",
       "    </tr>\n",
       "    <tr>\n",
       "      <th>std</th>\n",
       "      <td>0.278263</td>\n",
       "      <td>0.215958</td>\n",
       "      <td>0.210076</td>\n",
       "      <td>0.196607</td>\n",
       "      <td>0.234418</td>\n",
       "      <td>0.192320</td>\n",
       "      <td>0.222093</td>\n",
       "      <td>0.268295</td>\n",
       "    </tr>\n",
       "    <tr>\n",
       "      <th>min</th>\n",
       "      <td>0.000000</td>\n",
       "      <td>0.000000</td>\n",
       "      <td>0.000000</td>\n",
       "      <td>0.000000</td>\n",
       "      <td>0.000000</td>\n",
       "      <td>0.000000</td>\n",
       "      <td>0.000000</td>\n",
       "      <td>0.000000</td>\n",
       "    </tr>\n",
       "    <tr>\n",
       "      <th>25%</th>\n",
       "      <td>0.371230</td>\n",
       "      <td>0.300366</td>\n",
       "      <td>0.364465</td>\n",
       "      <td>0.608451</td>\n",
       "      <td>0.165447</td>\n",
       "      <td>0.070205</td>\n",
       "      <td>0.126088</td>\n",
       "      <td>0.183168</td>\n",
       "    </tr>\n",
       "    <tr>\n",
       "      <th>50%</th>\n",
       "      <td>0.487239</td>\n",
       "      <td>0.417582</td>\n",
       "      <td>0.493899</td>\n",
       "      <td>0.705209</td>\n",
       "      <td>0.245974</td>\n",
       "      <td>0.119863</td>\n",
       "      <td>0.180909</td>\n",
       "      <td>0.530941</td>\n",
       "    </tr>\n",
       "    <tr>\n",
       "      <th>75%</th>\n",
       "      <td>0.719258</td>\n",
       "      <td>0.554945</td>\n",
       "      <td>0.561247</td>\n",
       "      <td>0.780387</td>\n",
       "      <td>0.455344</td>\n",
       "      <td>0.200342</td>\n",
       "      <td>0.303450</td>\n",
       "      <td>0.688119</td>\n",
       "    </tr>\n",
       "    <tr>\n",
       "      <th>max</th>\n",
       "      <td>1.000000</td>\n",
       "      <td>1.000000</td>\n",
       "      <td>1.000000</td>\n",
       "      <td>1.000000</td>\n",
       "      <td>1.000000</td>\n",
       "      <td>1.000000</td>\n",
       "      <td>1.000000</td>\n",
       "      <td>1.000000</td>\n",
       "    </tr>\n",
       "  </tbody>\n",
       "</table>\n",
       "</div>"
      ],
      "text/plain": [
       "       danceability     energy      tempo   loudness    valence  speechiness  \\\n",
       "count     37.000000  37.000000  37.000000  37.000000  37.000000    37.000000   \n",
       "mean       0.506553   0.431343   0.464855   0.662332   0.324522     0.174704   \n",
       "std        0.278263   0.215958   0.210076   0.196607   0.234418     0.192320   \n",
       "min        0.000000   0.000000   0.000000   0.000000   0.000000     0.000000   \n",
       "25%        0.371230   0.300366   0.364465   0.608451   0.165447     0.070205   \n",
       "50%        0.487239   0.417582   0.493899   0.705209   0.245974     0.119863   \n",
       "75%        0.719258   0.554945   0.561247   0.780387   0.455344     0.200342   \n",
       "max        1.000000   1.000000   1.000000   1.000000   1.000000     1.000000   \n",
       "\n",
       "        liveness  acousticness  \n",
       "count  37.000000     37.000000  \n",
       "mean    0.255149      0.468591  \n",
       "std     0.222093      0.268295  \n",
       "min     0.000000      0.000000  \n",
       "25%     0.126088      0.183168  \n",
       "50%     0.180909      0.530941  \n",
       "75%     0.303450      0.688119  \n",
       "max     1.000000      1.000000  "
      ]
     },
     "execution_count": 11,
     "metadata": {},
     "output_type": "execute_result"
    }
   ],
   "source": [
    "chi.describe()"
   ]
  },
  {
   "cell_type": "markdown",
   "metadata": {},
   "source": [
    "Chinese Songs Observations:\n",
    "- on average: relatively high loudness and dancebility\n",
    "- on average: relatively low speechiness, valence, liveness"
   ]
  },
  {
   "cell_type": "code",
   "execution_count": 13,
   "metadata": {},
   "outputs": [
    {
     "data": {
      "text/html": [
       "<div>\n",
       "<style scoped>\n",
       "    .dataframe tbody tr th:only-of-type {\n",
       "        vertical-align: middle;\n",
       "    }\n",
       "\n",
       "    .dataframe tbody tr th {\n",
       "        vertical-align: top;\n",
       "    }\n",
       "\n",
       "    .dataframe thead th {\n",
       "        text-align: right;\n",
       "    }\n",
       "</style>\n",
       "<table border=\"1\" class=\"dataframe\">\n",
       "  <thead>\n",
       "    <tr style=\"text-align: right;\">\n",
       "      <th></th>\n",
       "      <th>danceability</th>\n",
       "      <th>energy</th>\n",
       "      <th>tempo</th>\n",
       "      <th>loudness</th>\n",
       "      <th>valence</th>\n",
       "      <th>speechiness</th>\n",
       "      <th>liveness</th>\n",
       "      <th>acousticness</th>\n",
       "    </tr>\n",
       "  </thead>\n",
       "  <tbody>\n",
       "    <tr>\n",
       "      <th>count</th>\n",
       "      <td>37.000000</td>\n",
       "      <td>37.000000</td>\n",
       "      <td>37.000000</td>\n",
       "      <td>37.000000</td>\n",
       "      <td>37.000000</td>\n",
       "      <td>37.000000</td>\n",
       "      <td>37.000000</td>\n",
       "      <td>37.000000</td>\n",
       "    </tr>\n",
       "    <tr>\n",
       "      <th>mean</th>\n",
       "      <td>0.569096</td>\n",
       "      <td>0.644558</td>\n",
       "      <td>0.350257</td>\n",
       "      <td>0.718468</td>\n",
       "      <td>0.466352</td>\n",
       "      <td>0.093498</td>\n",
       "      <td>0.220749</td>\n",
       "      <td>0.308877</td>\n",
       "    </tr>\n",
       "    <tr>\n",
       "      <th>std</th>\n",
       "      <td>0.224916</td>\n",
       "      <td>0.205858</td>\n",
       "      <td>0.261485</td>\n",
       "      <td>0.217921</td>\n",
       "      <td>0.268425</td>\n",
       "      <td>0.195505</td>\n",
       "      <td>0.193577</td>\n",
       "      <td>0.268802</td>\n",
       "    </tr>\n",
       "    <tr>\n",
       "      <th>min</th>\n",
       "      <td>0.000000</td>\n",
       "      <td>0.000000</td>\n",
       "      <td>0.000000</td>\n",
       "      <td>0.000000</td>\n",
       "      <td>0.000000</td>\n",
       "      <td>0.000000</td>\n",
       "      <td>0.000000</td>\n",
       "      <td>0.000000</td>\n",
       "    </tr>\n",
       "    <tr>\n",
       "      <th>25%</th>\n",
       "      <td>0.417883</td>\n",
       "      <td>0.543140</td>\n",
       "      <td>0.153470</td>\n",
       "      <td>0.625753</td>\n",
       "      <td>0.253672</td>\n",
       "      <td>0.023977</td>\n",
       "      <td>0.101879</td>\n",
       "      <td>0.082496</td>\n",
       "    </tr>\n",
       "    <tr>\n",
       "      <th>50%</th>\n",
       "      <td>0.596715</td>\n",
       "      <td>0.650636</td>\n",
       "      <td>0.292574</td>\n",
       "      <td>0.797314</td>\n",
       "      <td>0.473965</td>\n",
       "      <td>0.034149</td>\n",
       "      <td>0.150147</td>\n",
       "      <td>0.251921</td>\n",
       "    </tr>\n",
       "    <tr>\n",
       "      <th>75%</th>\n",
       "      <td>0.700730</td>\n",
       "      <td>0.782178</td>\n",
       "      <td>0.444631</td>\n",
       "      <td>0.857053</td>\n",
       "      <td>0.615487</td>\n",
       "      <td>0.061516</td>\n",
       "      <td>0.300121</td>\n",
       "      <td>0.468654</td>\n",
       "    </tr>\n",
       "    <tr>\n",
       "      <th>max</th>\n",
       "      <td>1.000000</td>\n",
       "      <td>1.000000</td>\n",
       "      <td>1.000000</td>\n",
       "      <td>1.000000</td>\n",
       "      <td>1.000000</td>\n",
       "      <td>1.000000</td>\n",
       "      <td>1.000000</td>\n",
       "      <td>1.000000</td>\n",
       "    </tr>\n",
       "  </tbody>\n",
       "</table>\n",
       "</div>"
      ],
      "text/plain": [
       "       danceability     energy      tempo   loudness    valence  speechiness  \\\n",
       "count     37.000000  37.000000  37.000000  37.000000  37.000000    37.000000   \n",
       "mean       0.569096   0.644558   0.350257   0.718468   0.466352     0.093498   \n",
       "std        0.224916   0.205858   0.261485   0.217921   0.268425     0.195505   \n",
       "min        0.000000   0.000000   0.000000   0.000000   0.000000     0.000000   \n",
       "25%        0.417883   0.543140   0.153470   0.625753   0.253672     0.023977   \n",
       "50%        0.596715   0.650636   0.292574   0.797314   0.473965     0.034149   \n",
       "75%        0.700730   0.782178   0.444631   0.857053   0.615487     0.061516   \n",
       "max        1.000000   1.000000   1.000000   1.000000   1.000000     1.000000   \n",
       "\n",
       "        liveness  acousticness  \n",
       "count  37.000000     37.000000  \n",
       "mean    0.220749      0.308877  \n",
       "std     0.193577      0.268802  \n",
       "min     0.000000      0.000000  \n",
       "25%     0.101879      0.082496  \n",
       "50%     0.150147      0.251921  \n",
       "75%     0.300121      0.468654  \n",
       "max     1.000000      1.000000  "
      ]
     },
     "execution_count": 13,
     "metadata": {},
     "output_type": "execute_result"
    }
   ],
   "source": [
    "eng.describe()"
   ]
  },
  {
   "cell_type": "markdown",
   "metadata": {},
   "source": [
    "English Songs Observations:\n",
    "- on average: relatively high loudness and energy\n",
    "- on average: relatively low speechiness, liveness, acousticness"
   ]
  },
  {
   "cell_type": "markdown",
   "metadata": {},
   "source": [
    "# Data Analysis with Visualizations"
   ]
  },
  {
   "cell_type": "markdown",
   "metadata": {},
   "source": [
    "I'm using Spotify colors green (#1DB954) to represent my favorite English songs, and black (#191414) to represent my favorite Chinese songs!!!"
   ]
  },
  {
   "cell_type": "markdown",
   "metadata": {},
   "source": [
    "## Histograms of Feature Distributions"
   ]
  },
  {
   "cell_type": "code",
   "execution_count": 92,
   "metadata": {},
   "outputs": [],
   "source": [
    "#Custom color palette\n",
    "red_blue = [\"#191414\", \"#1DB954\"]\n",
    "palette = sns.color_palette(red_blue)\n",
    "sns.set_palette(palette)\n",
    "sns.set_style(\"white\")"
   ]
  },
  {
   "cell_type": "code",
   "execution_count": 93,
   "metadata": {},
   "outputs": [],
   "source": [
    "#make each column into their own series\n",
    "danceability_chi = chi.filter(['danceability'], axis=1)\n",
    "danceability_chi = danceability_chi['danceability']\n",
    "danceability_eng = eng.filter(['danceability'], axis=1)['danceability'] \n",
    "\n",
    "energy_chi = chi.filter(['energy'], axis=1)['energy']\n",
    "energy_eng = eng.filter(['energy'], axis=1)['energy'] \n",
    "\n",
    "tempo_chi = chi.filter(['tempo'], axis=1)['tempo']\n",
    "tempo_eng = eng.filter(['tempo'], axis=1)['tempo'] \n",
    "\n",
    "loudness_chi = chi.filter(['loudness'], axis=1)['loudness']\n",
    "loudness_eng = eng.filter(['loudness'], axis=1)['loudness'] \n",
    "\n",
    "valence_chi = chi.filter(['valence'], axis=1)['valence']\n",
    "valence_eng = eng.filter(['valence'], axis=1)['valence'] \n",
    "\n",
    "speechiness_chi = chi.filter(['speechiness'], axis=1)['speechiness']\n",
    "speechiness_eng = eng.filter(['speechiness'], axis=1)['speechiness'] \n",
    "\n",
    "liveness_chi = chi.filter(['liveness'], axis=1)['liveness']\n",
    "liveness_eng = eng.filter(['liveness'], axis=1)['liveness'] \n",
    "\n",
    "acousticness_chi = chi.filter(['acousticness'], axis=1)['acousticness']\n",
    "acousticness_eng = eng.filter(['acousticness'], axis=1)['acousticness'] "
   ]
  },
  {
   "cell_type": "code",
   "execution_count": 94,
   "metadata": {},
   "outputs": [],
   "source": [
    "# #visualize\n",
    "# fig_test = plt.figure(figsize=(12,8))\n",
    "# plt.title(\"Song Danceability Like/Dislike Distribution\")\n",
    "# danceability_chi.hist(alpha = 0.7, bins = 30, label='chinese')\n",
    "# danceability_eng.hist(alpha = 0.7, bins = 30, label='english')\n",
    "# plt.legend(loc=\"upper right\")"
   ]
  },
  {
   "cell_type": "code",
   "execution_count": 95,
   "metadata": {},
   "outputs": [
    {
     "name": "stderr",
     "output_type": "stream",
     "text": [
      "/Users/justinehuang/opt/anaconda3/lib/python3.7/site-packages/ipykernel_launcher.py:10: MatplotlibDeprecationWarning: Adding an axes using the same arguments as a previous axes currently reuses the earlier instance.  In a future version, a new instance will always be created and returned.  Meanwhile, this warning can be suppressed, and the future behavior ensured, by passing a unique label to each axes instance.\n",
      "  # Remove the CWD from sys.path while we load stuff.\n",
      "/Users/justinehuang/opt/anaconda3/lib/python3.7/site-packages/ipykernel_launcher.py:20: MatplotlibDeprecationWarning: Adding an axes using the same arguments as a previous axes currently reuses the earlier instance.  In a future version, a new instance will always be created and returned.  Meanwhile, this warning can be suppressed, and the future behavior ensured, by passing a unique label to each axes instance.\n",
      "/Users/justinehuang/opt/anaconda3/lib/python3.7/site-packages/ipykernel_launcher.py:30: MatplotlibDeprecationWarning: Adding an axes using the same arguments as a previous axes currently reuses the earlier instance.  In a future version, a new instance will always be created and returned.  Meanwhile, this warning can be suppressed, and the future behavior ensured, by passing a unique label to each axes instance.\n",
      "/Users/justinehuang/opt/anaconda3/lib/python3.7/site-packages/ipykernel_launcher.py:40: MatplotlibDeprecationWarning: Adding an axes using the same arguments as a previous axes currently reuses the earlier instance.  In a future version, a new instance will always be created and returned.  Meanwhile, this warning can be suppressed, and the future behavior ensured, by passing a unique label to each axes instance.\n",
      "/Users/justinehuang/opt/anaconda3/lib/python3.7/site-packages/ipykernel_launcher.py:50: MatplotlibDeprecationWarning: Adding an axes using the same arguments as a previous axes currently reuses the earlier instance.  In a future version, a new instance will always be created and returned.  Meanwhile, this warning can be suppressed, and the future behavior ensured, by passing a unique label to each axes instance.\n",
      "/Users/justinehuang/opt/anaconda3/lib/python3.7/site-packages/ipykernel_launcher.py:60: MatplotlibDeprecationWarning: Adding an axes using the same arguments as a previous axes currently reuses the earlier instance.  In a future version, a new instance will always be created and returned.  Meanwhile, this warning can be suppressed, and the future behavior ensured, by passing a unique label to each axes instance.\n",
      "/Users/justinehuang/opt/anaconda3/lib/python3.7/site-packages/ipykernel_launcher.py:70: MatplotlibDeprecationWarning: Adding an axes using the same arguments as a previous axes currently reuses the earlier instance.  In a future version, a new instance will always be created and returned.  Meanwhile, this warning can be suppressed, and the future behavior ensured, by passing a unique label to each axes instance.\n",
      "/Users/justinehuang/opt/anaconda3/lib/python3.7/site-packages/ipykernel_launcher.py:80: MatplotlibDeprecationWarning: Adding an axes using the same arguments as a previous axes currently reuses the earlier instance.  In a future version, a new instance will always be created and returned.  Meanwhile, this warning can be suppressed, and the future behavior ensured, by passing a unique label to each axes instance.\n"
     ]
    },
    {
     "data": {
      "text/plain": [
       "<matplotlib.legend.Legend at 0x7fd782e00d50>"
      ]
     },
     "execution_count": 95,
     "metadata": {},
     "output_type": "execute_result"
    },
    {
     "data": {
      "image/png": "[encoded data removed]",
      "text/plain": [
       "<Figure size 1080x1080 with 8 Axes>"
      ]
     },
     "metadata": {},
     "output_type": "display_data"
    }
   ],
   "source": [
    "#figure with all columns\n",
    "fig = plt.figure(figsize=(15,15))\n",
    "\n",
    "#Danceability\n",
    "ax1 = fig.add_subplot(331) #3x3 grid location 1\n",
    "ax1.set_xlabel('Danceability')\n",
    "ax1.set_ylabel('Count')\n",
    "ax1.set_title('Song Danceability Distribution')\n",
    "danceability_chi.hist(alpha = 0.5, bins=30, label='chinese')\n",
    "ax2 = fig.add_subplot(331)\n",
    "danceability_eng.hist(alpha = 0.5, bins=30, label='english')\n",
    "plt.legend(loc=\"upper right\")\n",
    "\n",
    "#Energy\n",
    "ax3 = fig.add_subplot(332) #3x3 grid location 1\n",
    "ax3.set_xlabel('Energy')\n",
    "ax3.set_ylabel('Count')\n",
    "ax3.set_title('Song Energy Distribution')\n",
    "energy_chi.hist(alpha = 0.5, bins=30, label='chinese')\n",
    "ax4 = fig.add_subplot(332)\n",
    "energy_eng.hist(alpha = 0.5, bins=30, label='english')\n",
    "plt.legend(loc=\"upper right\")\n",
    "\n",
    "#Tempo\n",
    "ax5 = fig.add_subplot(333) #3x3 grid location 1\n",
    "ax5.set_xlabel('Tempo')\n",
    "ax5.set_ylabel('Count')\n",
    "ax5.set_title('Song Tempo Distribution')\n",
    "tempo_chi.hist(alpha = 0.5, bins=30, label='chinese')\n",
    "ax6 = fig.add_subplot(333)\n",
    "tempo_eng.hist(alpha = 0.5, bins=30, label='english')\n",
    "plt.legend(loc=\"upper right\")\n",
    "\n",
    "#Loudness\n",
    "ax7 = fig.add_subplot(334) #3x3 grid location 1\n",
    "ax7.set_xlabel('Loudness')\n",
    "ax7.set_ylabel('Count')\n",
    "ax7.set_title('Song Loudness Distribution')\n",
    "loudness_chi.hist(alpha = 0.5, bins=30, label='chinese')\n",
    "ax8 = fig.add_subplot(334)\n",
    "loudness_eng.hist(alpha = 0.5, bins=30, label='english')\n",
    "plt.legend(loc=\"upper right\")\n",
    "\n",
    "#Valence\n",
    "ax9 = fig.add_subplot(335) #3x3 grid location 1\n",
    "ax9.set_xlabel('Valence')\n",
    "ax9.set_ylabel('Count')\n",
    "ax9.set_title('Song Valence Distribution')\n",
    "valence_chi.hist(alpha = 0.5, bins=30, label='chinese')\n",
    "ax10 = fig.add_subplot(335)\n",
    "valence_eng.hist(alpha = 0.5, bins=30, label='english')\n",
    "plt.legend(loc=\"upper right\")\n",
    "\n",
    "#Speechiness\n",
    "ax11 = fig.add_subplot(336) #3x3 grid location 1\n",
    "ax11.set_xlabel('Speechiness')\n",
    "ax11.set_ylabel('Count')\n",
    "ax11.set_title('Song Speechiness Distribution')\n",
    "speechiness_chi.hist(alpha = 0.5, bins=30, label='chinese')\n",
    "ax12 = fig.add_subplot(336)\n",
    "speechiness_eng.hist(alpha = 0.5, bins=30, label='english')\n",
    "plt.legend(loc=\"upper right\")\n",
    "\n",
    "#Liveness\n",
    "ax13 = fig.add_subplot(337) #3x3 grid location 1\n",
    "ax13.set_xlabel('Liveness')\n",
    "ax13.set_ylabel('Count')\n",
    "ax13.set_title('Song Liveness Distribution')\n",
    "liveness_chi.hist(alpha = 0.5, bins=30, label='chinese')\n",
    "ax14 = fig.add_subplot(337)\n",
    "liveness_eng.hist(alpha = 0.5, bins=30, label='english')\n",
    "plt.legend(loc=\"upper right\")\n",
    "\n",
    "#Acousticness\n",
    "ax15 = fig.add_subplot(338) #3x3 grid location 1\n",
    "ax15.set_xlabel('Acousticness')\n",
    "ax15.set_ylabel('Count')\n",
    "ax15.set_title('Song Acousticness Distribution')\n",
    "acousticness_chi.hist(alpha = 0.5, bins=30, label='chinese')\n",
    "ax16 = fig.add_subplot(338)\n",
    "acousticness_eng.hist(alpha = 0.5, bins=30, label='english')\n",
    "plt.legend(loc=\"upper right\")"
   ]
  },
  {
   "cell_type": "markdown",
   "metadata": {},
   "source": [
    "These histograms of each of the audio features may indicate that my music taste in chinese songs and in English songs are pretty similar in that the within each plot, the shapes of the histograms between Chinese and English songs are pretty similar. The Liveness and Speechiness histograms of both playlists show that most of my songs are at the lower end of liveness. The shape between the distribution of tempo is more dissimilar in that for English songs, tempo is spread across the entire range more uniformly, whereas for Chinese songs, there is an obvious peak on the histogram.\n",
    "\n",
    "Some observations:\n",
    "\n",
    "- On average, my songs have:\n",
    "    - low liveliness\n",
    "    - low speechiness\n",
    "    - high loudness\n",
    "    - low/medium valence\n",
    "    - relatively low acousticness"
   ]
  },
  {
   "cell_type": "markdown",
   "metadata": {},
   "source": [
    "## Correlation between Features with Heat Map"
   ]
  },
  {
   "cell_type": "markdown",
   "metadata": {},
   "source": [
    "### English Songs Features Heat Map"
   ]
  },
  {
   "cell_type": "code",
   "execution_count": 23,
   "metadata": {},
   "outputs": [
    {
     "data": {
      "image/png": "[encoded data removed]",
      "text/plain": [
       "<Figure size 1440x720 with 2 Axes>"
      ]
     },
     "metadata": {},
     "output_type": "display_data"
    }
   ],
   "source": [
    "#English Songs\n",
    "plt.figure(figsize=(20,10))\n",
    "plt.title(\"Correlation Matrix of Features (English Songs)\")\n",
    "c = eng.corr()\n",
    "corr = sns.heatmap(c,cmap=\"Greens\",annot=True)"
   ]
  },
  {
   "cell_type": "markdown",
   "metadata": {},
   "source": [
    "### Chinese Songs Features Heat Map"
   ]
  },
  {
   "cell_type": "code",
   "execution_count": 24,
   "metadata": {},
   "outputs": [
    {
     "data": {
      "image/png": "[encoded data removed]",
      "text/plain": [
       "<Figure size 1440x720 with 2 Axes>"
      ]
     },
     "metadata": {},
     "output_type": "display_data"
    }
   ],
   "source": [
    "#Chinese Songs\n",
    "plt.figure(figsize=(20,10))\n",
    "plt.title(\"Correlation Matrix of Features (Chinese Songs)\")\n",
    "c = chi.corr()\n",
    "corr = sns.heatmap(c,cmap=\"Greens\",annot=True)"
   ]
  },
  {
   "cell_type": "markdown",
   "metadata": {},
   "source": [
    "From both heatmaps, loudness and energy are seen to be highly positively correlated which makes sense because loud music can be highly energetic. On the other hand, accoustiness and energy have a relatively high negative association, which also makes sense."
   ]
  },
  {
   "cell_type": "markdown",
   "metadata": {},
   "source": [
    "### Correlation of Features Between Chinese and English Songs"
   ]
  },
  {
   "cell_type": "code",
   "execution_count": 79,
   "metadata": {},
   "outputs": [],
   "source": [
    "#correlation between the data sets\n",
    "from scipy.stats import pearsonr"
   ]
  },
  {
   "cell_type": "code",
   "execution_count": 80,
   "metadata": {},
   "outputs": [],
   "source": [
    "# create a new DataFrame where the values for the indices and columns\n",
    "# align on the diagonals\n",
    "c = pd.DataFrame(columns = eng.iloc[:,1:].columns, index = eng.iloc[:,1:].columns)\n",
    "\n",
    "for col in c.columns:\n",
    "    for idx in c.index:\n",
    "        correl_signif = pearsonr(eng.iloc[:,1:][col], chi.iloc[:,1:][idx]) # correlation of those two Series\n",
    "        correl = correl_signif[0] # grab the actual Pearson R value from the tuple from above\n",
    "        c.loc[idx, col] = correl  # locate the diagonal for that column and assign the correlation coefficient   "
   ]
  },
  {
   "cell_type": "code",
   "execution_count": 78,
   "metadata": {},
   "outputs": [
    {
     "data": {
      "text/html": [
       "<div>\n",
       "<style scoped>\n",
       "    .dataframe tbody tr th:only-of-type {\n",
       "        vertical-align: middle;\n",
       "    }\n",
       "\n",
       "    .dataframe tbody tr th {\n",
       "        vertical-align: top;\n",
       "    }\n",
       "\n",
       "    .dataframe thead th {\n",
       "        text-align: right;\n",
       "    }\n",
       "</style>\n",
       "<table border=\"1\" class=\"dataframe\">\n",
       "  <thead>\n",
       "    <tr style=\"text-align: right;\">\n",
       "      <th></th>\n",
       "      <th>danceability</th>\n",
       "      <th>energy</th>\n",
       "      <th>tempo</th>\n",
       "      <th>loudness</th>\n",
       "      <th>valence</th>\n",
       "      <th>speechiness</th>\n",
       "      <th>liveness</th>\n",
       "      <th>acousticness</th>\n",
       "    </tr>\n",
       "  </thead>\n",
       "  <tbody>\n",
       "    <tr>\n",
       "      <th>danceability</th>\n",
       "      <td>0.020422</td>\n",
       "      <td>-0.0234627</td>\n",
       "      <td>0.142765</td>\n",
       "      <td>0.112412</td>\n",
       "      <td>0.249398</td>\n",
       "      <td>-0.202155</td>\n",
       "      <td>-0.112299</td>\n",
       "      <td>-0.0177431</td>\n",
       "    </tr>\n",
       "    <tr>\n",
       "      <th>energy</th>\n",
       "      <td>0.0927598</td>\n",
       "      <td>0.306265</td>\n",
       "      <td>0.0371081</td>\n",
       "      <td>0.15329</td>\n",
       "      <td>0.317693</td>\n",
       "      <td>-0.170479</td>\n",
       "      <td>0.281738</td>\n",
       "      <td>-0.278467</td>\n",
       "    </tr>\n",
       "    <tr>\n",
       "      <th>tempo</th>\n",
       "      <td>-0.0271404</td>\n",
       "      <td>0.172937</td>\n",
       "      <td>-0.146788</td>\n",
       "      <td>-0.045581</td>\n",
       "      <td>-0.102626</td>\n",
       "      <td>-0.224665</td>\n",
       "      <td>-0.0108516</td>\n",
       "      <td>-0.140342</td>\n",
       "    </tr>\n",
       "    <tr>\n",
       "      <th>loudness</th>\n",
       "      <td>0.0326105</td>\n",
       "      <td>0.219858</td>\n",
       "      <td>0.0321579</td>\n",
       "      <td>0.0321321</td>\n",
       "      <td>0.314576</td>\n",
       "      <td>-0.0776273</td>\n",
       "      <td>0.178</td>\n",
       "      <td>-0.173363</td>\n",
       "    </tr>\n",
       "    <tr>\n",
       "      <th>valence</th>\n",
       "      <td>-0.105915</td>\n",
       "      <td>-0.0380541</td>\n",
       "      <td>0.169446</td>\n",
       "      <td>0.0163511</td>\n",
       "      <td>0.162085</td>\n",
       "      <td>-0.0325861</td>\n",
       "      <td>0.140061</td>\n",
       "      <td>-0.025559</td>\n",
       "    </tr>\n",
       "    <tr>\n",
       "      <th>speechiness</th>\n",
       "      <td>-0.0197787</td>\n",
       "      <td>0.121151</td>\n",
       "      <td>-0.205951</td>\n",
       "      <td>-0.00353245</td>\n",
       "      <td>-0.0354161</td>\n",
       "      <td>0.0178474</td>\n",
       "      <td>0.325902</td>\n",
       "      <td>0.0499041</td>\n",
       "    </tr>\n",
       "    <tr>\n",
       "      <th>liveness</th>\n",
       "      <td>-0.0604799</td>\n",
       "      <td>-0.136555</td>\n",
       "      <td>0.0954172</td>\n",
       "      <td>-0.0184089</td>\n",
       "      <td>-0.250768</td>\n",
       "      <td>-0.00762959</td>\n",
       "      <td>0.283793</td>\n",
       "      <td>0.184771</td>\n",
       "    </tr>\n",
       "    <tr>\n",
       "      <th>acousticness</th>\n",
       "      <td>-0.0697289</td>\n",
       "      <td>0.0400595</td>\n",
       "      <td>-0.0822031</td>\n",
       "      <td>0.0518398</td>\n",
       "      <td>0.00503952</td>\n",
       "      <td>0.201674</td>\n",
       "      <td>-0.261357</td>\n",
       "      <td>0.125808</td>\n",
       "    </tr>\n",
       "  </tbody>\n",
       "</table>\n",
       "</div>"
      ],
      "text/plain": [
       "             danceability     energy      tempo    loudness     valence  \\\n",
       "danceability     0.020422 -0.0234627   0.142765    0.112412    0.249398   \n",
       "energy          0.0927598   0.306265  0.0371081     0.15329    0.317693   \n",
       "tempo          -0.0271404   0.172937  -0.146788   -0.045581   -0.102626   \n",
       "loudness        0.0326105   0.219858  0.0321579   0.0321321    0.314576   \n",
       "valence         -0.105915 -0.0380541   0.169446   0.0163511    0.162085   \n",
       "speechiness    -0.0197787   0.121151  -0.205951 -0.00353245  -0.0354161   \n",
       "liveness       -0.0604799  -0.136555  0.0954172  -0.0184089   -0.250768   \n",
       "acousticness   -0.0697289  0.0400595 -0.0822031   0.0518398  0.00503952   \n",
       "\n",
       "             speechiness   liveness acousticness  \n",
       "danceability   -0.202155  -0.112299   -0.0177431  \n",
       "energy         -0.170479   0.281738    -0.278467  \n",
       "tempo          -0.224665 -0.0108516    -0.140342  \n",
       "loudness      -0.0776273      0.178    -0.173363  \n",
       "valence       -0.0325861   0.140061    -0.025559  \n",
       "speechiness    0.0178474   0.325902    0.0499041  \n",
       "liveness     -0.00762959   0.283793     0.184771  \n",
       "acousticness    0.201674  -0.261357     0.125808  "
      ]
     },
     "execution_count": 78,
     "metadata": {},
     "output_type": "execute_result"
    }
   ],
   "source": [
    "c"
   ]
  },
  {
   "cell_type": "markdown",
   "metadata": {},
   "source": [
    "Here I compared the features between the Chinese and English songs. This dataframe shows the correlation of each the features of the Chinese songs and each of the features of the English songs. By looking at the diagonal, you can see the correlation between corresponding feautres are all positive (except for tempo). I was kind of surprised by the negative correlation and also by how low some of the correlations are. But overall, the positive correlations could indicate that my favorite Chinese and English songs are pretty similar."
   ]
  },
  {
   "cell_type": "markdown",
   "metadata": {},
   "source": [
    "## Analysis of Audio Feature Means"
   ]
  },
  {
   "cell_type": "code",
   "execution_count": 98,
   "metadata": {},
   "outputs": [
    {
     "data": {
      "image/png": "[encoded data removed]",
      "text/plain": [
       "<Figure size 576x576 with 1 Axes>"
      ]
     },
     "metadata": {},
     "output_type": "display_data"
    }
   ],
   "source": [
    "# Number of features\n",
    "N = len(eng.iloc[:,1:].mean())\n",
    "# Array with the number of features\n",
    "num_features = np.arange(N) \n",
    "\n",
    "width = 0.35  \n",
    "#Bar plot with my list\n",
    "plt.barh(num_features, eng.iloc[:,1:].mean() , width, label='English', color = '#1DB954', alpha = 0.5)\n",
    "#Bar plot with her list\n",
    "plt.barh(num_features + width, chi.iloc[:,1:].mean(), width, label='Chinese', color = 'black', alpha = 0.5)\n",
    "\n",
    "#X- label\n",
    "plt.xlabel('Mean', fontsize = 12)\n",
    "# Title\n",
    "plt.title('Mean Values of the Audio Features')\n",
    "#Vertical ticks\n",
    "plt.yticks(num_features + width / 2, (list(chi.iloc[:,1:])[:]), fontsize = 12)\n",
    "#legend\n",
    "plt.legend(loc='best')\n",
    "plt.show()"
   ]
  },
  {
   "cell_type": "markdown",
   "metadata": {},
   "source": [
    "As expected, the average of the features of both my favorite Chinese and English songs are pretty similar as seen in similarities in the means.\n",
    "\n",
    "This chart supports what I saw during EDA in that the songs are on average:\n",
    "- low in liveliness\n",
    "- low in speechiness\n",
    "- medium/low valence\n",
    "- meidum/low acousticness\n",
    "- high loudness\n",
    "\n",
    "Some things that surprised me is how high my loudness features are and how low speechiness is.\n",
    "\n",
    "The ones with the biggest difference in means are:\n",
    "- energy\n",
    "- valence\n",
    "- acousticness\n",
    "\n",
    "My favorite English songs on average have higher energy and valence, but lower acousticness.\n"
   ]
  },
  {
   "cell_type": "markdown",
   "metadata": {},
   "source": [
    "# Standard Deviation of features to see how varied the playlists are"
   ]
  },
  {
   "cell_type": "markdown",
   "metadata": {},
   "source": [
    "Here, I averaged the standard deviations of audio features for each of the playlists and compared them to show which playlist has a greater variety of songs. I aggregated the standard deviations because it's omre dififcult to compare multiple standard deviations, so having one metric to describe each playlist is more effective."
   ]
  },
  {
   "cell_type": "markdown",
   "metadata": {},
   "source": [
    "## English Playlist"
   ]
  },
  {
   "cell_type": "code",
   "execution_count": 87,
   "metadata": {},
   "outputs": [
    {
     "data": {
      "text/plain": [
       "danceability    0.224916\n",
       "energy          0.205858\n",
       "tempo           0.261485\n",
       "loudness        0.217921\n",
       "valence         0.268425\n",
       "speechiness     0.195505\n",
       "liveness        0.193577\n",
       "acousticness    0.268802\n",
       "dtype: float64"
      ]
     },
     "execution_count": 87,
     "metadata": {},
     "output_type": "execute_result"
    }
   ],
   "source": [
    "#standard deviations of the features\n",
    "eng_std = eng.iloc[:,1:].std()\n",
    "eng_std"
   ]
  },
  {
   "cell_type": "code",
   "execution_count": 88,
   "metadata": {},
   "outputs": [
    {
     "data": {
      "text/plain": [
       "0.2295608969372678"
      ]
     },
     "execution_count": 88,
     "metadata": {},
     "output_type": "execute_result"
    }
   ],
   "source": [
    "#average of the standard deviations\n",
    "eng_std.mean()"
   ]
  },
  {
   "cell_type": "markdown",
   "metadata": {},
   "source": [
    "## Chinese Playlist"
   ]
  },
  {
   "cell_type": "code",
   "execution_count": 89,
   "metadata": {},
   "outputs": [
    {
     "data": {
      "text/plain": [
       "danceability    0.278263\n",
       "energy          0.215958\n",
       "tempo           0.210076\n",
       "loudness        0.196607\n",
       "valence         0.234418\n",
       "speechiness     0.192320\n",
       "liveness        0.222093\n",
       "acousticness    0.268295\n",
       "dtype: float64"
      ]
     },
     "execution_count": 89,
     "metadata": {},
     "output_type": "execute_result"
    }
   ],
   "source": [
    "#standard deviations of the features\n",
    "chi_std = chi.iloc[:,1:].std()\n",
    "chi_std"
   ]
  },
  {
   "cell_type": "code",
   "execution_count": 90,
   "metadata": {},
   "outputs": [
    {
     "data": {
      "text/plain": [
       "0.22725377418487827"
      ]
     },
     "execution_count": 90,
     "metadata": {},
     "output_type": "execute_result"
    }
   ],
   "source": [
    "#average of the standard deviations\n",
    "chi_std.mean()"
   ]
  },
  {
   "cell_type": "markdown",
   "metadata": {},
   "source": [
    "## Comparison of how varied my playlists are"
   ]
  },
  {
   "cell_type": "code",
   "execution_count": 91,
   "metadata": {},
   "outputs": [
    {
     "data": {
      "image/png": "[encoded data removed]",
      "text/plain": [
       "<Figure size 576x576 with 1 Axes>"
      ]
     },
     "metadata": {},
     "output_type": "display_data"
    }
   ],
   "source": [
    "var_data = [eng_std.mean(), chi_std.mean()]\n",
    "label = ('English','Chinese')\n",
    "pos = np.arange(len(label))\n",
    "colors = ['#1DB954', 'black']\n",
    "\n",
    "plt.bar(pos, var_data, align = 'center', alpha = 0.5, color = colors)\n",
    "plt.xticks(pos, label)\n",
    "plt.ylabel('Variety')\n",
    "plt.title('Variety of Audio Features')\n",
    "plt.show()"
   ]
  },
  {
   "cell_type": "markdown",
   "metadata": {},
   "source": [
    "The songs in both my favorite songs seems to have a very similar level of diversity. For the English playlist, it's only slightly higher at around **0.22956** and for the Chinese playlist, it's around **0.22725**. And this level of variety doesn't seem too high to me, which means my favorite songs could be all pretty similar in terms of audio features."
   ]
  },
  {
   "cell_type": "markdown",
   "metadata": {},
   "source": [
    "# Conclusion"
   ]
  },
  {
   "cell_type": "markdown",
   "metadata": {},
   "source": [
    "I expected the songs in both playlist to have similar audio feature levels beacuse I don't think I personally listen to a wide range or variety of music genres, even when in different languages. This is also why I expected that most of the audio features are similar when comparing my favorite English and favorite Chinese Songs. I also believe my favorite types of music can be described as slow pop/pop, ballads, and kind of sad. So, as mentioned at the beginning, I expected my music to be:\n",
    "- lower in valence (musical positiveness)\n",
    "- lower in tempo (speed)\n",
    "- lower in loudness\n",
    "- lower in energy\n",
    "- higher in speechiness\n",
    "\n",
    "From many of the graphs, especially the one about the averages of the audio features, it can be inferred that the two playlists are pretty similar. Their means were relatively close to each other and the from the histogram, it can be seen that the spreads of the audio features were pretty similar when comparing the English and Chinese Songs.\n",
    "\n",
    "I was correct in that many of my songs weren't high in valence nor tempo because valence measures the positivity of a song, and I like to listen to slower and sadder music. However, the levels of some of the audio features surprised me. I thought my music would be loud and less speechy. Loudness ended up as the feature with the highest mean for both playlists and speechiness had the lowest means. This could be explained by loudness and speechiness both don't necessarily have a very strong correlation with valence as shown on the heat maps (and I based my assumptions on low valence). The correlation of those two features with valence are very low especially for the English songs (<0.08). \n",
    "\n",
    "Turns out, I think I was right in that my music taste isn't super diversified beacuse when I calculated the average of the standard deviations of my songs' audio feature, it came out to be around 0.22 which I think is pretty low. It was this amount for both the English and Chinese playlists.\n",
    "\n",
    "Next time, I would want to try to look at a bigger subset of my music becuase this time I only had 37 songs from each playlist (since I don't listen to as many Chinese songs). Moving forward, I will also try to apply machine learning in my analysis -- perhaps in predicting which playlists a song belongs in or make song recommendations based on playlist of songs."
   ]
  }
 ],
 "metadata": {
  "kernelspec": {
   "display_name": "Python 3",
   "language": "python",
   "name": "python3"
  },
  "language_info": {
   "codemirror_mode": {
    "name": "ipython",
    "version": 3
   },
   "file_extension": ".py",
   "mimetype": "text/x-python",
   "name": "python",
   "nbconvert_exporter": "python",
   "pygments_lexer": "ipython3",
   "version": "3.7.6"
  }
 },
 "nbformat": 4,
 "nbformat_minor": 4
}
